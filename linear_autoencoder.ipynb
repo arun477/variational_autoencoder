{
 "cells": [
  {
   "cell_type": "code",
   "execution_count": 104,
   "metadata": {},
   "outputs": [],
   "source": [
    "import torch\n",
    "from torch import nn\n",
    "from datasets import load_dataset\n",
    "import fastcore.all as fc\n",
    "import torch.nn.functional as F\n",
    "import torchvision.transforms.functional as TF\n",
    "from torch.utils.data import DataLoader, default_collate\n",
    "from torch import optim"
   ]
  },
  {
   "cell_type": "code",
   "execution_count": 105,
   "metadata": {},
   "outputs": [
    {
     "data": {
      "text/html": [
       "Finishing last run (ID:w5ct2gez) before initializing another..."
      ],
      "text/plain": [
       "<IPython.core.display.HTML object>"
      ]
     },
     "metadata": {},
     "output_type": "display_data"
    },
    {
     "data": {
      "text/html": [
       "Waiting for W&B process to finish... <strong style=\"color:green\">(success).</strong>"
      ],
      "text/plain": [
       "<IPython.core.display.HTML object>"
      ]
     },
     "metadata": {},
     "output_type": "display_data"
    },
    {
     "name": "stderr",
     "output_type": "stream",
     "text": [
      "wandb: WARNING Source type is set to 'repo' but some required information is missing from the environment. A job will not be created from this run. See https://docs.wandb.ai/guides/launch/create-job\n"
     ]
    },
    {
     "data": {
      "application/vnd.jupyter.widget-view+json": {
       "model_id": "39a00ec267b04a519cda8b9559cfbc5b",
       "version_major": 2,
       "version_minor": 0
      },
      "text/plain": [
       "VBox(children=(Label(value='0.001 MB of 0.023 MB uploaded (0.000 MB deduped)\\r'), FloatProgress(value=0.047527…"
      ]
     },
     "metadata": {},
     "output_type": "display_data"
    },
    {
     "data": {
      "text/html": [
       " View run <strong style=\"color:#cdcd00\">azure-serenity-6</strong> at: <a href='https://wandb.ai/carlfeynman/vae/runs/w5ct2gez' target=\"_blank\">https://wandb.ai/carlfeynman/vae/runs/w5ct2gez</a><br/>Synced 6 W&B file(s), 0 media file(s), 0 artifact file(s) and 0 other file(s)"
      ],
      "text/plain": [
       "<IPython.core.display.HTML object>"
      ]
     },
     "metadata": {},
     "output_type": "display_data"
    },
    {
     "data": {
      "text/html": [
       "Find logs at: <code>./wandb/run-20230921_085335-w5ct2gez/logs</code>"
      ],
      "text/plain": [
       "<IPython.core.display.HTML object>"
      ]
     },
     "metadata": {},
     "output_type": "display_data"
    },
    {
     "data": {
      "text/html": [
       "Successfully finished last run (ID:w5ct2gez). Initializing new run:<br/>"
      ],
      "text/plain": [
       "<IPython.core.display.HTML object>"
      ]
     },
     "metadata": {},
     "output_type": "display_data"
    },
    {
     "data": {
      "text/html": [
       "Tracking run with wandb version 0.15.10"
      ],
      "text/plain": [
       "<IPython.core.display.HTML object>"
      ]
     },
     "metadata": {},
     "output_type": "display_data"
    },
    {
     "data": {
      "text/html": [
       "Run data is saved locally in <code>/Users/arun/Dropbox/Mac/Documents/personal/projects/variational_autoencoder/wandb/run-20230921_101208-u6tmqbli</code>"
      ],
      "text/plain": [
       "<IPython.core.display.HTML object>"
      ]
     },
     "metadata": {},
     "output_type": "display_data"
    },
    {
     "data": {
      "text/html": [
       "Syncing run <strong><a href='https://wandb.ai/carlfeynman/vae/runs/u6tmqbli' target=\"_blank\">light-silence-7</a></strong> to <a href='https://wandb.ai/carlfeynman/vae' target=\"_blank\">Weights & Biases</a> (<a href='https://wandb.me/run' target=\"_blank\">docs</a>)<br/>"
      ],
      "text/plain": [
       "<IPython.core.display.HTML object>"
      ]
     },
     "metadata": {},
     "output_type": "display_data"
    },
    {
     "data": {
      "text/html": [
       " View project at <a href='https://wandb.ai/carlfeynman/vae' target=\"_blank\">https://wandb.ai/carlfeynman/vae</a>"
      ],
      "text/plain": [
       "<IPython.core.display.HTML object>"
      ]
     },
     "metadata": {},
     "output_type": "display_data"
    },
    {
     "data": {
      "text/html": [
       " View run at <a href='https://wandb.ai/carlfeynman/vae/runs/u6tmqbli' target=\"_blank\">https://wandb.ai/carlfeynman/vae/runs/u6tmqbli</a>"
      ],
      "text/plain": [
       "<IPython.core.display.HTML object>"
      ]
     },
     "metadata": {},
     "output_type": "display_data"
    }
   ],
   "source": [
    "import matplotlib.pyplot as plt\n",
    "import wandb\n",
    "wandb.init(\n",
    "    project='vae'\n",
    ")\n",
    "plt.rcParams['image.cmap'] = 'gray'"
   ]
  },
  {
   "cell_type": "code",
   "execution_count": 106,
   "metadata": {},
   "outputs": [
    {
     "name": "stderr",
     "output_type": "stream",
     "text": [
      "Found cached dataset fashion_mnist (/Users/arun/.cache/huggingface/datasets/fashion_mnist/fashion_mnist/1.0.0/0a671f063342996f19779d38c0ab4abef9c64f757b35af8134b331c294d7ba48)\n",
      "100%|██████████| 2/2 [00:00<00:00, 45.44it/s]\n"
     ]
    }
   ],
   "source": [
    "name = 'fashion_mnist'\n",
    "x,y = 'image','label'\n",
    "dsr = load_dataset(name)"
   ]
  },
  {
   "cell_type": "code",
   "execution_count": 107,
   "metadata": {},
   "outputs": [],
   "source": [
    "def transform(b):\n",
    "    b[x] = [TF.to_tensor(ele)-0.5 for ele in b[x]]\n",
    "    return b"
   ]
  },
  {
   "cell_type": "code",
   "execution_count": 108,
   "metadata": {},
   "outputs": [],
   "source": [
    "dst = dsr.with_transform(transform)"
   ]
  },
  {
   "cell_type": "code",
   "execution_count": 109,
   "metadata": {},
   "outputs": [],
   "source": [
    "def collate_dict(b):\n",
    "     clt = default_collate(b)\n",
    "     return (clt[x], clt[y])\n",
    "\n",
    "class DataLoaders:\n",
    "     def __init__(self, train_ds, valid_ds, batch_size, collate_fn, **kwargs):\n",
    "          self.train = DataLoader(train_ds, batch_size=batch_size, collate_fn=collate_fn, shuffle=True, **kwargs)\n",
    "          self.valid = DataLoader(valid_ds, batch_size=batch_size*2, collate_fn=collate_fn, shuffle=True, **kwargs)"
   ]
  },
  {
   "cell_type": "code",
   "execution_count": 110,
   "metadata": {},
   "outputs": [],
   "source": [
    "bs = 1024\n",
    "dls = DataLoaders(dst['train'], dst['test'], batch_size=bs, collate_fn=collate_dict)"
   ]
  },
  {
   "cell_type": "code",
   "execution_count": 111,
   "metadata": {},
   "outputs": [
    {
     "data": {
      "text/plain": [
       "(torch.Size([1024, 1, 28, 28]),\n",
       " torch.Size([1024]),\n",
       " tensor(-0.5000),\n",
       " tensor(0.5000))"
      ]
     },
     "execution_count": 111,
     "metadata": {},
     "output_type": "execute_result"
    }
   ],
   "source": [
    "xb,yb = next(iter(dls.train))\n",
    "xb.shape, yb.shape, xb.min(), xb.max()"
   ]
  },
  {
   "cell_type": "code",
   "execution_count": 112,
   "metadata": {},
   "outputs": [
    {
     "data": {
      "image/png": "[encoded data removed]",
      "text/plain": [
       "<Figure size 432x288 with 1 Axes>"
      ]
     },
     "metadata": {
      "needs_background": "light"
     },
     "output_type": "display_data"
    }
   ],
   "source": [
    "plt.imshow(xb[2].permute(1, 2, 0));\n",
    "plt.axis('off');"
   ]
  },
  {
   "cell_type": "code",
   "execution_count": 113,
   "metadata": {},
   "outputs": [
    {
     "data": {
      "image/png": "[encoded data removed]",
      "text/plain": [
       "<Figure size 432x288 with 1 Axes>"
      ]
     },
     "metadata": {
      "needs_background": "light"
     },
     "output_type": "display_data"
    }
   ],
   "source": [
    "plt.imshow(xb[5].permute(1, 2, 0));\n",
    "plt.axis('off');"
   ]
  },
  {
   "cell_type": "code",
   "execution_count": 114,
   "metadata": {},
   "outputs": [],
   "source": [
    "def conv(ni, nf, ks=3, s=2, act=nn.ReLU, norm=None, bias=True):\n",
    "    layers = [nn.Conv2d(ni, nf, kernel_size=ks, stride=s, padding=ks//2, bias=bias)]\n",
    "    if norm is not None:\n",
    "        layers.append(norm)\n",
    "    if act:\n",
    "        layers.append(act())\n",
    "    return nn.Sequential(*layers)\n",
    "\n",
    "def _conv_block(ni, nf, ks=3, s=2, act=nn.ReLU, norm=None, bias=True):\n",
    "    return nn.Sequential(\n",
    "        conv(ni, nf, ks=ks, s=1, act=act, bias=bias),\n",
    "        conv(nf, nf, s=s, norm=norm, act=None, bias=bias)\n",
    "    )\n",
    "\n",
    "class ResBlock(nn.Module):\n",
    "    def __init__(self, ni, nf, ks=3, s=2, act=nn.ReLU, norm=None, bias=True):\n",
    "        super().__init__()\n",
    "        self.conv = _conv_block(ni, nf, ks=ks, s=s, act=act, norm=norm, bias=bias)\n",
    "        self.idconv = fc.noop if ni==nf else conv(ni, nf, s=1, ks=1, act=None)\n",
    "        self.pool = nn.noop if s==1 else nn.AvgPool2d(2, ceil_mode=True)\n",
    "        self.act = act()\n",
    "    \n",
    "    def forward(self, x):\n",
    "        return self.act(self.conv(x) + self.idconv(self.pool(x)))"
   ]
  },
  {
   "cell_type": "code",
   "execution_count": 115,
   "metadata": {},
   "outputs": [],
   "source": [
    "def kaiming_init(m):\n",
    "    if isinstance(m, (nn.Conv1d, nn.Conv2d, nn.Conv3d)):\n",
    "        nn.init.kaiming_normal_(m.weight)"
   ]
  },
  {
   "cell_type": "code",
   "execution_count": 131,
   "metadata": {},
   "outputs": [],
   "source": [
    "class Reshape(nn.Module):\n",
    "    def __init__(self, dim):\n",
    "        super().__init__()\n",
    "        self.dim = dim\n",
    "    \n",
    "    def forward(self, x):\n",
    "        return x.view(self.dim)\n",
    "\n",
    "class RTanh(nn.Module):\n",
    "    def __init__(self):\n",
    "        super().__init__()\n",
    "    \n",
    "    def forward(self, x):\n",
    "        x = nn.Tanh()(x)\n",
    "        return x\n",
    "\n",
    "class AutoEncoder(nn.Module):\n",
    "    def __init__(self):\n",
    "        super().__init__()\n",
    "        self.encoder = self._encoder()\n",
    "        self.decoder = self._decoder()\n",
    "    \n",
    "    def _encoder(self):\n",
    "        return nn.Sequential(\n",
    "            Reshape((-1, 28*28)),\n",
    "            nn.Linear(784, 512),\n",
    "            nn.BatchNorm1d(512),\n",
    "            nn.ReLU(),\n",
    "            nn.Linear(512, 256),\n",
    "            nn.BatchNorm1d(256),\n",
    "            nn.ReLU(),\n",
    "            nn.Linear(256, 128),\n",
    "            nn.BatchNorm1d(128),\n",
    "            nn.ReLU(),\n",
    "            nn.Linear(128, 96),\n",
    "            nn.BatchNorm1d(96),\n",
    "            nn.ReLU(),\n",
    "            nn.Linear(96, 64),\n",
    "            nn.BatchNorm1d(64),\n",
    "            nn.ReLU(),\n",
    "            nn.Linear(64, 32),\n",
    "            nn.BatchNorm1d(32),\n",
    "            nn.ReLU())\n",
    "    \n",
    "    def _decoder(self):\n",
    "        return nn.Sequential(\n",
    "            nn.Linear(32, 64),\n",
    "            nn.BatchNorm1d(64),\n",
    "            nn.ReLU(),\n",
    "            nn.Linear(64, 128),\n",
    "            nn.BatchNorm1d(128),\n",
    "            nn.ReLU(),\n",
    "            nn.Linear(128, 256),\n",
    "            nn.BatchNorm1d(256),\n",
    "            nn.ReLU(),\n",
    "            nn.Linear(256, 512),\n",
    "            nn.BatchNorm1d(512),\n",
    "            nn.ReLU(),\n",
    "            nn.Linear(512, 784),\n",
    "            RTanh(),\n",
    "            Reshape((-1, 1, 28, 28))\n",
    "        )\n",
    "\n",
    "    def forward(self, x):\n",
    "        return self.decoder(self.encoder(x))"
   ]
  },
  {
   "cell_type": "code",
   "execution_count": 132,
   "metadata": {},
   "outputs": [
    {
     "data": {
      "text/plain": [
       "tensor(0.)"
      ]
     },
     "execution_count": 132,
     "metadata": {},
     "output_type": "execute_result"
    }
   ],
   "source": [
    "q = torch.distributions.MultivariateNormal(torch.tensor([0, 0, 0]), torch.eye(3))\n",
    "p = torch.distributions.MultivariateNormal(torch.tensor([0, 0, 0]), torch.eye(3))\n",
    "kl = torch.distributions.kl.kl_divergence(q, p)\n",
    "kl"
   ]
  },
  {
   "cell_type": "code",
   "execution_count": 133,
   "metadata": {},
   "outputs": [],
   "source": [
    "def noisify(xb):\n",
    "    with torch.no_grad():\n",
    "        z = torch.distributions.Normal(xb, 0.2)\n",
    "        xb = z.sample((1,))[0]\n",
    "    return xb"
   ]
  },
  {
   "cell_type": "code",
   "execution_count": 134,
   "metadata": {},
   "outputs": [
    {
     "data": {
      "image/png": "[encoded data removed]",
      "text/plain": [
       "<Figure size 1080x1080 with 5 Axes>"
      ]
     },
     "metadata": {
      "needs_background": "light"
     },
     "output_type": "display_data"
    }
   ],
   "source": [
    "xbn = noisify(xb)\n",
    "_,axs2 = plt.subplots(1, 5, figsize=(15, 15))\n",
    "for img, ax in zip(xbn[:5], axs2.flat):\n",
    "    ax.imshow(img.permute(1,2,0))\n",
    "    ax.set_axis_off()\n",
    "    ax.set_title('original')"
   ]
  },
  {
   "cell_type": "code",
   "execution_count": 135,
   "metadata": {},
   "outputs": [
    {
     "data": {
      "text/plain": [
       "(tensor(-0.5000), tensor(0.5000))"
      ]
     },
     "execution_count": 135,
     "metadata": {},
     "output_type": "execute_result"
    }
   ],
   "source": [
    "model = AutoEncoder()\n",
    "output = model(xb).detach().cpu()\n",
    "output.shape\n",
    "xb.min(),xb.max()"
   ]
  },
  {
   "cell_type": "code",
   "execution_count": 138,
   "metadata": {},
   "outputs": [
    {
     "name": "stdout",
     "output_type": "stream",
     "text": [
      "train: train, epoch:1, loss: 0.0738\n",
      "train: eval, epoch:1, loss: 0.0755\n",
      "train: train, epoch:2, loss: 0.0652\n",
      "train: eval, epoch:2, loss: 0.0650\n",
      "train: train, epoch:3, loss: 0.0549\n",
      "train: eval, epoch:3, loss: 0.0529\n",
      "train: train, epoch:4, loss: 0.0449\n",
      "train: eval, epoch:4, loss: 0.0414\n",
      "train: train, epoch:5, loss: 0.0400\n",
      "train: eval, epoch:5, loss: 0.0371\n",
      "train: train, epoch:6, loss: 0.0430\n",
      "train: eval, epoch:6, loss: 0.0402\n",
      "train: train, epoch:7, loss: 0.0494\n",
      "train: eval, epoch:7, loss: 0.0383\n",
      "train: train, epoch:8, loss: 0.0338\n",
      "train: eval, epoch:8, loss: 0.0329\n",
      "train: train, epoch:9, loss: 0.0326\n",
      "train: eval, epoch:9, loss: 0.0314\n",
      "train: train, epoch:10, loss: 0.0301\n",
      "train: eval, epoch:10, loss: 0.0303\n",
      "train: train, epoch:11, loss: 0.0303\n",
      "train: eval, epoch:11, loss: 0.0297\n",
      "train: train, epoch:12, loss: 0.0289\n",
      "train: eval, epoch:12, loss: 0.0281\n",
      "train: train, epoch:13, loss: 0.0283\n",
      "train: eval, epoch:13, loss: 0.0284\n",
      "train: train, epoch:14, loss: 0.0276\n",
      "train: eval, epoch:14, loss: 0.0277\n",
      "train: train, epoch:15, loss: 0.0275\n",
      "train: eval, epoch:15, loss: 0.0268\n",
      "train: train, epoch:16, loss: 0.0263\n",
      "train: eval, epoch:16, loss: 0.0268\n",
      "train: train, epoch:17, loss: 0.0275\n",
      "train: eval, epoch:17, loss: 0.0259\n",
      "train: train, epoch:18, loss: 0.0249\n",
      "train: eval, epoch:18, loss: 0.0255\n",
      "train: train, epoch:19, loss: 0.0255\n",
      "train: eval, epoch:19, loss: 0.0255\n",
      "train: train, epoch:20, loss: 0.0250\n",
      "train: eval, epoch:20, loss: 0.0252\n"
     ]
    }
   ],
   "source": [
    "epochs = 20\n",
    "lr = 2e-2\n",
    "model = AutoEncoder()\n",
    "model.apply(kaiming_init)\n",
    "opt = optim.AdamW(model.parameters(), lr=lr,)\n",
    "for epoch in range(epochs):\n",
    "    for train in (True, False):\n",
    "        dl = dls.train if train else dls.valid\n",
    "        for xb,yb in dl:\n",
    "            xbn = xb\n",
    "            pred = model(xbn)\n",
    "            loss = F.l1_loss(pred, xb)\n",
    "            if train:\n",
    "                loss.backward()\n",
    "                opt.step()\n",
    "                opt.zero_grad()\n",
    "        wandb.log({\n",
    "            'train': 'train' if train else 'eval',\n",
    "            'epoch': epoch + 1,\n",
    "            'loss': loss.item()\n",
    "        })\n",
    "        print(f\"train: {'train' if train else 'eval'}, epoch:{epoch+1}, loss: {loss.item():.4f}\")"
   ]
  },
  {
   "cell_type": "code",
   "execution_count": 139,
   "metadata": {},
   "outputs": [
    {
     "data": {
      "image/png": "[encoded data removed]",
      "text/plain": [
       "<Figure size 720x720 with 5 Axes>"
      ]
     },
     "metadata": {
      "needs_background": "light"
     },
     "output_type": "display_data"
    },
    {
     "data": {
      "image/png": "[encoded data removed]",
      "text/plain": [
       "<Figure size 720x720 with 5 Axes>"
      ]
     },
     "metadata": {
      "needs_background": "light"
     },
     "output_type": "display_data"
    }
   ],
   "source": [
    "outp = model(xb).detach()\n",
    "sz = 5\n",
    "imgs = outp[:sz]\n",
    "imgs.shape\n",
    "_,axs = plt.subplots(1, sz, figsize=(10, 10))\n",
    "for img, ax in zip(imgs, axs.flat):\n",
    "    ax.imshow(img.permute(1,2,0))\n",
    "    ax.set_axis_off()\n",
    "    ax.set_title('prediction')\n",
    "    \n",
    "_,axs2 = plt.subplots(1, sz, figsize=(10, 10))\n",
    "for img, ax in zip(xb[:sz], axs2.flat):\n",
    "    ax.imshow(img.permute(1,2,0))\n",
    "    ax.set_axis_off()\n",
    "    ax.set_title('original')"
   ]
  },
  {
   "cell_type": "markdown",
   "metadata": {},
   "source": []
  },
  {
   "cell_type": "code",
   "execution_count": 140,
   "metadata": {},
   "outputs": [],
   "source": [
    "wandbpred= wandb.Image(\n",
    "   outp[:20]\n",
    ")\n",
    "wandbinp= wandb.Image(\n",
    "   xb[:20]\n",
    ")\n",
    "wandb.log({\n",
    "    'generated': wandbpred,\n",
    "    'original': wandbinp,\n",
    "})"
   ]
  },
  {
   "cell_type": "code",
   "execution_count": null,
   "metadata": {},
   "outputs": [],
   "source": []
  }
 ],
 "metadata": {
  "kernelspec": {
   "display_name": "base",
   "language": "python",
   "name": "python3"
  },
  "language_info": {
   "codemirror_mode": {
    "name": "ipython",
    "version": 3
   },
   "file_extension": ".py",
   "mimetype": "text/x-python",
   "name": "python",
   "nbconvert_exporter": "python",
   "pygments_lexer": "ipython3",
   "version": "3.9.7"
  },
  "orig_nbformat": 4
 },
 "nbformat": 4,
 "nbformat_minor": 2
}
