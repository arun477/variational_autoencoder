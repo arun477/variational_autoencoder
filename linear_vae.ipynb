{
 "cells": [
  {
   "cell_type": "code",
   "execution_count": 44,
   "metadata": {},
   "outputs": [],
   "source": [
    "import torch\n",
    "from torch import nn\n",
    "from torch import optim\n",
    "import fastcore.all as fc\n",
    "from datasets import load_dataset\n",
    "from torch.utils.data import default_collate, DataLoader\n",
    "import matplotlib.pyplot as plt\n",
    "import torchvision.transforms.functional as TF\n",
    "import torch.nn.functional as F\n",
    "from functools import partial"
   ]
  },
  {
   "cell_type": "code",
   "execution_count": 3,
   "metadata": {},
   "outputs": [
    {
     "name": "stderr",
     "output_type": "stream",
     "text": [
      "/Applications/anaconda3/lib/python3.9/site-packages/scipy/__init__.py:146: UserWarning: A NumPy version >=1.16.5 and <1.23.0 is required for this version of SciPy (detected version 1.24.3\n",
      "  warnings.warn(f\"A NumPy version >={np_minversion} and <{np_maxversion}\"\n",
      "Found cached dataset mnist (/Users/arun/.cache/huggingface/datasets/mnist/mnist/1.0.0/9d494b7f466d6931c64fb39d58bb1249a4d85c9eb9865d9bc20960b999e2a332)\n",
      "100%|██████████| 2/2 [00:00<00:00, 56.53it/s]\n"
     ]
    }
   ],
   "source": [
    "name = 'mnist'\n",
    "x,y = 'image','label'\n",
    "dsr = load_dataset(name)"
   ]
  },
  {
   "cell_type": "code",
   "execution_count": 22,
   "metadata": {},
   "outputs": [],
   "source": [
    "def transform(b):\n",
    "    b[x] = [torch.flatten(TF.to_tensor(ele))*2-1 for ele in b[x]]\n",
    "    return b\n",
    "\n",
    "def collate_fn(b):\n",
    "    clt = default_collate(b)\n",
    "    return (clt[x], clt[y])\n",
    "\n",
    "class DataLoaders:\n",
    "    def __init__(self, train_ds, valid_ds, collate_fn, batch_size):\n",
    "        self.train = DataLoader(train_ds, batch_size=batch_size, collate_fn=collate_fn, shuffle=True)\n",
    "        self.valid = DataLoader(valid_ds, batch_size=2*batch_size, collate_fn=collate_fn, shuffle=False)"
   ]
  },
  {
   "cell_type": "code",
   "execution_count": 23,
   "metadata": {},
   "outputs": [],
   "source": [
    "batch_size = 1024\n",
    "dst = dsr.with_transform(transform)\n",
    "dls = DataLoaders(dst['train'], dst['test'], batch_size=batch_size, collate_fn=collate_fn)"
   ]
  },
  {
   "cell_type": "code",
   "execution_count": 24,
   "metadata": {},
   "outputs": [
    {
     "data": {
      "text/plain": [
       "(torch.Size([1024, 784]), torch.Size([1024]), tensor(-1.), tensor(1.))"
      ]
     },
     "execution_count": 24,
     "metadata": {},
     "output_type": "execute_result"
    }
   ],
   "source": [
    "xb,yb = next(iter(dls.train))\n",
    "xb.shape, yb.shape, xb.min(), xb.max()"
   ]
  },
  {
   "cell_type": "code",
   "execution_count": 25,
   "metadata": {},
   "outputs": [
    {
     "data": {
      "image/png": "[encoded data removed]",
      "text/plain": [
       "<Figure size 432x288 with 1 Axes>"
      ]
     },
     "metadata": {
      "needs_background": "light"
     },
     "output_type": "display_data"
    }
   ],
   "source": [
    "plt.imshow(xb[10].view(28, 28));\n",
    "plt.axis('off');"
   ]
  },
  {
   "cell_type": "code",
   "execution_count": 32,
   "metadata": {},
   "outputs": [],
   "source": [
    "class VAE(nn.Module):\n",
    "    def __init__(self, latent_dim=10):\n",
    "        super().__init__()\n",
    "        self.latent_dim = latent_dim\n",
    "        self.encoder = self._encoder()\n",
    "        self.decoder = self._decoder()\n",
    "    \n",
    "    def _encoder(self):\n",
    "        return nn.Sequential(\n",
    "            nn.Linear(784, 100),\n",
    "            nn.ReLU(),\n",
    "            nn.Linear(100, self.latent_dim),\n",
    "            nn.Tanh()\n",
    "        )\n",
    "    \n",
    "    def _decoder(self):\n",
    "        return nn.Sequential(\n",
    "            nn.Linear(self.latent_dim, 100),\n",
    "            nn.ReLU(),\n",
    "            nn.Linear(100, 784),\n",
    "            nn.Tanh()\n",
    "        )\n",
    "    \n",
    "    def forward(self, x):\n",
    "        x = self.encoder(x)\n",
    "        x = self.decoder(x)\n",
    "        return x"
   ]
  },
  {
   "cell_type": "code",
   "execution_count": 33,
   "metadata": {},
   "outputs": [
    {
     "data": {
      "text/plain": [
       "(torch.Size([1024, 784]),\n",
       " tensor(-0.3557, grad_fn=<MinBackward1>),\n",
       " tensor(0.4248, grad_fn=<MaxBackward1>))"
      ]
     },
     "execution_count": 33,
     "metadata": {},
     "output_type": "execute_result"
    }
   ],
   "source": [
    "m = VAE()\n",
    "o = m(xb)\n",
    "o.shape, o.min(), o.max()"
   ]
  },
  {
   "cell_type": "code",
   "execution_count": 72,
   "metadata": {},
   "outputs": [],
   "source": [
    "class ActStats:\n",
    "    def __init__(self, m) :\n",
    "        self.losses = []\n",
    "        layers = []\n",
    "        m.apply(lambda k: layers.append(k) if isinstance(k, (nn.Linear)) else None)\n",
    "        for i,l in enumerate(layers):\n",
    "            l.register_forward_hook(partial(self.track_stats, i))\n",
    "        self.stds = [[] for _ in range(len(layers))]\n",
    "        self.means = [[] for _ in range(len(layers))]\n",
    "\n",
    "    def track_stats(self, i, m, inp, outp):\n",
    "        act = outp.detach().cpu()\n",
    "        self.means[i].append(act.mean())\n",
    "        self.stds[i].append(act.std())\n",
    "    \n",
    "    def plot(self, figsize=(20, 5)):\n",
    "        _,axs = plt.subplots(1, 3, figsize=figsize)\n",
    "        titles = ['means', 'stds', 'losses']\n",
    "        for title, data, ax in zip(titles, (self.means, self.stds, [self.losses]), axs.flat):\n",
    "            for i,l in enumerate(data):\n",
    "                ax.plot(l, label=f'layer_{i}')\n",
    "            ax.set_title(title)\n",
    "            ax.legend()"
   ]
  },
  {
   "cell_type": "code",
   "execution_count": 82,
   "metadata": {},
   "outputs": [],
   "source": [
    "def kaiming_init(m):\n",
    "    if isinstance(m, (nn.Linear)):\n",
    "        nn.init.kaiming_normal_(m.weight)"
   ]
  },
  {
   "cell_type": "code",
   "execution_count": 83,
   "metadata": {},
   "outputs": [
    {
     "name": "stdout",
     "output_type": "stream",
     "text": [
      "epoch:1, loss:0.2669\n"
     ]
    }
   ],
   "source": [
    "epochs = 1\n",
    "lr = 1e-1\n",
    "model = VAE()\n",
    "model.apply(kaiming_init)\n",
    "actstats = ActStats(model)\n",
    "opt = optim.AdamW(model.parameters(), lr=lr)\n",
    "for epoch in range(epochs):\n",
    "    dl = dls.train\n",
    "    for xb,_ in dl:\n",
    "        pred = model(xb)\n",
    "        loss = F.mse_loss(pred, xb)\n",
    "        loss.backward()\n",
    "        opt.step()\n",
    "        opt.zero_grad()\n",
    "        actstats.losses.append(loss.item())\n",
    "    print(f'epoch:{epoch+1}, loss:{loss.item():.4f}')"
   ]
  },
  {
   "cell_type": "code",
   "execution_count": 84,
   "metadata": {},
   "outputs": [
    {
     "data": {
      "image/png": "[encoded data removed]",
      "text/plain": [
       "<Figure size 1440x360 with 3 Axes>"
      ]
     },
     "metadata": {
      "needs_background": "light"
     },
     "output_type": "display_data"
    }
   ],
   "source": [
    "actstats.plot(figsize=(20, 5))"
   ]
  },
  {
   "cell_type": "code",
   "execution_count": null,
   "metadata": {},
   "outputs": [],
   "source": []
  }
 ],
 "metadata": {
  "kernelspec": {
   "display_name": "base",
   "language": "python",
   "name": "python3"
  },
  "language_info": {
   "codemirror_mode": {
    "name": "ipython",
    "version": 3
   },
   "file_extension": ".py",
   "mimetype": "text/x-python",
   "name": "python",
   "nbconvert_exporter": "python",
   "pygments_lexer": "ipython3",
   "version": "3.9.7"
  },
  "orig_nbformat": 4
 },
 "nbformat": 4,
 "nbformat_minor": 2
}
