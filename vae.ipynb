{
 "cells": [
  {
   "cell_type": "code",
   "execution_count": 2,
   "metadata": {},
   "outputs": [],
   "source": [
    "import torch\n",
    "from torch import nn\n",
    "from datasets import load_dataset\n",
    "import fastcore.all as fc\n",
    "import torch.nn.functional as F\n",
    "import torchvision.transforms.functional as TF\n",
    "from torch.utils.data import DataLoader, default_collate\n",
    "from torch import optim"
   ]
  },
  {
   "cell_type": "code",
   "execution_count": 3,
   "metadata": {},
   "outputs": [],
   "source": [
    "import matplotlib.pyplot as plt"
   ]
  },
  {
   "cell_type": "code",
   "execution_count": 4,
   "metadata": {},
   "outputs": [
    {
     "name": "stderr",
     "output_type": "stream",
     "text": [
      "Found cached dataset fashion_mnist (/Users/arun/.cache/huggingface/datasets/fashion_mnist/fashion_mnist/1.0.0/0a671f063342996f19779d38c0ab4abef9c64f757b35af8134b331c294d7ba48)\n",
      "100%|██████████| 2/2 [00:00<00:00, 49.94it/s]\n"
     ]
    }
   ],
   "source": [
    "name = 'fashion_mnist'\n",
    "x,y = 'image','label'\n",
    "dsr = load_dataset(name)"
   ]
  },
  {
   "cell_type": "code",
   "execution_count": 5,
   "metadata": {},
   "outputs": [],
   "source": [
    "def transform(b):\n",
    "    b[x] = [TF.to_tensor(ele) for ele in b[x]]\n",
    "    return b"
   ]
  },
  {
   "cell_type": "code",
   "execution_count": 6,
   "metadata": {},
   "outputs": [],
   "source": [
    "dst = dsr.with_transform(transform)"
   ]
  },
  {
   "cell_type": "code",
   "execution_count": 7,
   "metadata": {},
   "outputs": [],
   "source": [
    "def collate_dict(b):\n",
    "     clt = default_collate(b)\n",
    "     return (clt[x], clt[y])\n",
    "\n",
    "class DataLoaders:\n",
    "     def __init__(self, train_ds, valid_ds, batch_size, collate_fn, **kwargs):\n",
    "          self.train = DataLoader(train_ds, batch_size=batch_size, collate_fn=collate_fn, shuffle=True, **kwargs)\n",
    "          self.valid = DataLoader(valid_ds, batch_size=batch_size*2, collate_fn=collate_fn, shuffle=True, **kwargs)"
   ]
  },
  {
   "cell_type": "code",
   "execution_count": 8,
   "metadata": {},
   "outputs": [],
   "source": [
    "bs = 1024\n",
    "dls = DataLoaders(dst['train'], dst['test'], batch_size=bs, collate_fn=collate_dict)"
   ]
  },
  {
   "cell_type": "code",
   "execution_count": 9,
   "metadata": {},
   "outputs": [
    {
     "data": {
      "text/plain": [
       "(torch.Size([1024, 1, 28, 28]), torch.Size([1024]))"
      ]
     },
     "execution_count": 9,
     "metadata": {},
     "output_type": "execute_result"
    }
   ],
   "source": [
    "xb,yb = next(iter(dls.train))\n",
    "xb.shape, yb.shape"
   ]
  },
  {
   "cell_type": "code",
   "execution_count": 10,
   "metadata": {},
   "outputs": [
    {
     "data": {
      "image/png": "[encoded data removed]",
      "text/plain": [
       "<Figure size 432x288 with 1 Axes>"
      ]
     },
     "metadata": {
      "needs_background": "light"
     },
     "output_type": "display_data"
    }
   ],
   "source": [
    "plt.imshow(xb[0].permute(1, 2, 0));\n",
    "plt.axis('off');"
   ]
  },
  {
   "cell_type": "code",
   "execution_count": 11,
   "metadata": {},
   "outputs": [],
   "source": [
    "def conv(ni, nf, ks=3, s=2, act=nn.ReLU, norm=None, bias=True):\n",
    "    layers = [nn.Conv2d(ni, nf, kernel_size=ks, stride=s, padding=ks//2, bias=bias)]\n",
    "    if norm is not None:\n",
    "        layers.append(norm)\n",
    "    if act:\n",
    "        layers.append(act())\n",
    "    return nn.Sequential(*layers)\n",
    "\n",
    "def _conv_block(ni, nf, ks=3, s=2, act=nn.ReLU, norm=None, bias=True):\n",
    "    return nn.Sequential(\n",
    "        conv(ni, nf, ks=ks, s=1, act=act, bias=bias),\n",
    "        conv(nf, nf, s=s, norm=norm, act=None, bias=bias)\n",
    "    )\n",
    "\n",
    "class ResBlock(nn.Module):\n",
    "    def __init__(self, ni, nf, ks=3, s=2, act=nn.ReLU, norm=None, bias=True):\n",
    "        super().__init__()\n",
    "        self.conv = _conv_block(ni, nf, ks=ks, s=s, act=act, norm=norm, bias=bias)\n",
    "        self.idconv = fc.noop if ni==nf else conv(ni, nf, s=1, ks=1, act=None)\n",
    "        self.pool = nn.noop if s==1 else nn.AvgPool2d(2, ceil_mode=True)\n",
    "        self.act = act()\n",
    "    \n",
    "    def forward(self, x):\n",
    "        return self.act(self.conv(x) + self.idconv(self.pool(x)))"
   ]
  },
  {
   "cell_type": "code",
   "execution_count": 12,
   "metadata": {},
   "outputs": [],
   "source": [
    "class Classifier(nn.Module):\n",
    "    def __init__(self):\n",
    "        super().__init__()\n",
    "        self.cls = self._cls()\n",
    "    \n",
    "    def _cls(self):\n",
    "        return nn.Sequential(\n",
    "        ResBlock(1, 8, norm=nn.LayerNorm([8, 14, 14])),\n",
    "        ResBlock(8, 16, norm=nn.LayerNorm([16, 7, 7])),\n",
    "        ResBlock(16, 32, norm=nn.LayerNorm([32, 4, 4])),\n",
    "        ResBlock(32, 64, norm=nn.LayerNorm([64, 2, 2])),\n",
    "        ResBlock(64, 64,  norm=nn.LayerNorm([64, 1, 1])),\n",
    "        conv(64, 10, act=False),\n",
    "        nn.Flatten(),\n",
    "    )\n",
    "    \n",
    "    def forward(self, x):\n",
    "        return self.cls(x)"
   ]
  },
  {
   "cell_type": "code",
   "execution_count": 13,
   "metadata": {},
   "outputs": [
    {
     "data": {
      "text/plain": [
       "torch.Size([1024, 10])"
      ]
     },
     "execution_count": 13,
     "metadata": {},
     "output_type": "execute_result"
    }
   ],
   "source": [
    "model = Classifier()\n",
    "model(xb).shape"
   ]
  },
  {
   "cell_type": "code",
   "execution_count": 14,
   "metadata": {},
   "outputs": [],
   "source": [
    "def kaiming_init(m):\n",
    "    if isinstance(m, (nn.Conv1d, nn.Conv2d, nn.Conv3d)):\n",
    "        nn.init.kaiming_normal_(m.weight)"
   ]
  },
  {
   "cell_type": "code",
   "execution_count": null,
   "metadata": {},
   "outputs": [],
   "source": [
    "epochs = 5\n",
    "lr = 0.01\n",
    "max_lr = 0.2\n",
    "model = Classifier()\n",
    "model.apply(kaiming_init)\n",
    "opt = optim.AdamW(model.parameters(), lr=lr)\n",
    "sched = optim.lr_scheduler.OneCycleLR(opt, max_lr=max_lr, total_steps=len(dls.train), epochs=epochs)\n",
    "for epoch in range(epochs):\n",
    "    for train in (True, False):\n",
    "        dl = dls.train if train else dls.valid\n",
    "        accuracy = 0\n",
    "        for xb,yb in dl:\n",
    "            pred = model(xb)\n",
    "            loss = F.cross_entropy(pred, yb)\n",
    "            if train:\n",
    "                loss.backward()\n",
    "                opt.step()\n",
    "                opt.zero_grad()\n",
    "            with torch.no_grad():\n",
    "                accuracy += (pred.argmax(dim=1) == yb).float().mean()\n",
    "        accuracy /= len(dl)\n",
    "        if train:\n",
    "            sched.step()\n",
    "        print(f\"train: {'train' if train else 'eval'}, epoch:{epoch+1}, loss: {loss.item():.4f}, accuracy:{accuracy:.4f}\")"
   ]
  },
  {
   "cell_type": "code",
   "execution_count": 69,
   "metadata": {},
   "outputs": [],
   "source": [
    "class Reshape(nn.Module):\n",
    "    def __init__(self, dim):\n",
    "        super().__init__()\n",
    "        self.dim = dim\n",
    "    \n",
    "    def forward(self, x):\n",
    "        return x.view(self.dim)\n",
    "\n",
    "class AutoEncoder(nn.Module):\n",
    "    def __init__(self):\n",
    "        super().__init__()\n",
    "        self.encoder = self._encoder()\n",
    "        self.decoder = self._decoder()\n",
    "    \n",
    "    def _encoder(self):\n",
    "        return nn.Sequential(\n",
    "            ResBlock(1, 8),\n",
    "            ResBlock(8, 16),\n",
    "            ResBlock(16, 32),\n",
    "            ResBlock(32, 64),\n",
    "            ResBlock(64, 64),\n",
    "            conv(64, 10, act=False),\n",
    "            nn.Flatten(),\n",
    "        )\n",
    "    \n",
    "    def _decoder(self):\n",
    "        return nn.Sequential(\n",
    "            nn.Linear(10, 64),\n",
    "            Reshape((-1, 64, 1, 1)),\n",
    "            nn.ConvTranspose2d(64, 32, kernel_size=2),\n",
    "            nn.ConvTranspose2d(32, 16, kernel_size=3),\n",
    "            nn.ConvTranspose2d(16, 8, kernel_size=8),\n",
    "            nn.ConvTranspose2d(8, 1, kernel_size=18),\n",
    "        )\n",
    "\n",
    "    def forward(self, x):\n",
    "        return self.decoder(self.encoder(x))\n"
   ]
  },
  {
   "cell_type": "code",
   "execution_count": 70,
   "metadata": {},
   "outputs": [
    {
     "data": {
      "text/plain": [
       "torch.Size([1024, 1, 28, 28])"
      ]
     },
     "execution_count": 70,
     "metadata": {},
     "output_type": "execute_result"
    }
   ],
   "source": [
    "model = AutoEncoder()\n",
    "output = model(xb).detach().cpu()\n",
    "output.shape"
   ]
  },
  {
   "cell_type": "code",
   "execution_count": 85,
   "metadata": {},
   "outputs": [
    {
     "name": "stdout",
     "output_type": "stream",
     "text": [
      "train: train, epoch:1, loss: 0.0894\n",
      "train: eval, epoch:1, loss: 0.0835\n"
     ]
    }
   ],
   "source": [
    "epochs = 5\n",
    "lr = 0.01\n",
    "max_lr = 0.2\n",
    "model = AutoEncoder()\n",
    "model.apply(kaiming_init)\n",
    "opt = optim.AdamW(model.parameters(), lr=lr)\n",
    "sched = optim.lr_scheduler.OneCycleLR(opt, max_lr=max_lr, total_steps=len(dls.train), epochs=epochs)\n",
    "for epoch in range(epochs):\n",
    "    for train in (True, False):\n",
    "        dl = dls.train if train else dls.valid\n",
    "        accuracy = 0\n",
    "        for xb,yb in dl:\n",
    "            pred = model(xb)\n",
    "            loss = F.mse_loss(pred, xb)\n",
    "            if train:\n",
    "                loss.backward()\n",
    "                opt.step()\n",
    "                opt.zero_grad()\n",
    "        if train:\n",
    "            sched.step()\n",
    "        print(f\"train: {'train' if train else 'eval'}, epoch:{epoch+1}, loss: {loss.item():.4f}\")"
   ]
  },
  {
   "cell_type": "code",
   "execution_count": 84,
   "metadata": {},
   "outputs": [
    {
     "data": {
      "image/png": "[encoded data removed]",
      "text/plain": [
       "<Figure size 1080x1080 with 5 Axes>"
      ]
     },
     "metadata": {
      "needs_background": "light"
     },
     "output_type": "display_data"
    }
   ],
   "source": [
    "outp = model(xb).detach()\n",
    "sz = 5\n",
    "imgs = outp[:sz]\n",
    "imgs.shape\n",
    "_,axs = plt.subplots(1, sz, figsize=(15, 15))\n",
    "for img, ax in zip(imgs, axs.flat):\n",
    "    ax.imshow(img.permute(1,2,0))\n",
    "    ax.set_axis_off()"
   ]
  },
  {
   "cell_type": "code",
   "execution_count": null,
   "metadata": {},
   "outputs": [],
   "source": []
  },
  {
   "cell_type": "code",
   "execution_count": null,
   "metadata": {},
   "outputs": [],
   "source": []
  }
 ],
 "metadata": {
  "kernelspec": {
   "display_name": "base",
   "language": "python",
   "name": "python3"
  },
  "language_info": {
   "codemirror_mode": {
    "name": "ipython",
    "version": 3
   },
   "file_extension": ".py",
   "mimetype": "text/x-python",
   "name": "python",
   "nbconvert_exporter": "python",
   "pygments_lexer": "ipython3",
   "version": "3.9.7"
  },
  "orig_nbformat": 4
 },
 "nbformat": 4,
 "nbformat_minor": 2
}
