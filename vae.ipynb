{
 "cells": [
  {
   "cell_type": "code",
   "execution_count": 3,
   "metadata": {},
   "outputs": [],
   "source": [
    "import torch\n",
    "from torch import nn\n",
    "from datasets import load_dataset\n",
    "import fastcore.all as fc\n",
    "import torch.nn.functional as F\n",
    "import torchvision.transforms.functional as TF\n",
    "from torch.utils.data import DataLoader, default_collate\n",
    "from torch import optim"
   ]
  },
  {
   "cell_type": "code",
   "execution_count": 4,
   "metadata": {},
   "outputs": [
    {
     "name": "stderr",
     "output_type": "stream",
     "text": [
      "Failed to detect the name of this notebook, you can set it manually with the WANDB_NOTEBOOK_NAME environment variable to enable code saving.\n",
      "\u001b[34m\u001b[1mwandb\u001b[0m: Currently logged in as: \u001b[33mcarlfeynman\u001b[0m. Use \u001b[1m`wandb login --relogin`\u001b[0m to force relogin\n"
     ]
    },
    {
     "data": {
      "text/html": [
       "Tracking run with wandb version 0.15.10"
      ],
      "text/plain": [
       "<IPython.core.display.HTML object>"
      ]
     },
     "metadata": {},
     "output_type": "display_data"
    },
    {
     "data": {
      "text/html": [
       "Run data is saved locally in <code>/Users/arun/Dropbox/Mac/Documents/personal/projects/variational_autoencoder/wandb/run-20230920_102655-z5mj3nzc</code>"
      ],
      "text/plain": [
       "<IPython.core.display.HTML object>"
      ]
     },
     "metadata": {},
     "output_type": "display_data"
    },
    {
     "data": {
      "text/html": [
       "Syncing run <strong><a href='https://wandb.ai/carlfeynman/vae/runs/z5mj3nzc' target=\"_blank\">dutiful-resonance-2</a></strong> to <a href='https://wandb.ai/carlfeynman/vae' target=\"_blank\">Weights & Biases</a> (<a href='https://wandb.me/run' target=\"_blank\">docs</a>)<br/>"
      ],
      "text/plain": [
       "<IPython.core.display.HTML object>"
      ]
     },
     "metadata": {},
     "output_type": "display_data"
    },
    {
     "data": {
      "text/html": [
       " View project at <a href='https://wandb.ai/carlfeynman/vae' target=\"_blank\">https://wandb.ai/carlfeynman/vae</a>"
      ],
      "text/plain": [
       "<IPython.core.display.HTML object>"
      ]
     },
     "metadata": {},
     "output_type": "display_data"
    },
    {
     "data": {
      "text/html": [
       " View run at <a href='https://wandb.ai/carlfeynman/vae/runs/z5mj3nzc' target=\"_blank\">https://wandb.ai/carlfeynman/vae/runs/z5mj3nzc</a>"
      ],
      "text/plain": [
       "<IPython.core.display.HTML object>"
      ]
     },
     "metadata": {},
     "output_type": "display_data"
    },
    {
     "data": {
      "text/html": [
       "<button onClick=\"this.nextSibling.style.display='block';this.style.display='none';\">Display W&B run</button><iframe src='https://wandb.ai/carlfeynman/vae/runs/z5mj3nzc?jupyter=true' style='border:none;width:100%;height:420px;display:none;'></iframe>"
      ],
      "text/plain": [
       "<wandb.sdk.wandb_run.Run at 0x7fe5a1956730>"
      ]
     },
     "execution_count": 4,
     "metadata": {},
     "output_type": "execute_result"
    }
   ],
   "source": [
    "import matplotlib.pyplot as plt\n",
    "import wandb\n",
    "wandb.init(\n",
    "    project='vae'\n",
    ")"
   ]
  },
  {
   "cell_type": "code",
   "execution_count": 5,
   "metadata": {},
   "outputs": [
    {
     "name": "stderr",
     "output_type": "stream",
     "text": [
      "Found cached dataset fashion_mnist (/Users/arun/.cache/huggingface/datasets/fashion_mnist/fashion_mnist/1.0.0/0a671f063342996f19779d38c0ab4abef9c64f757b35af8134b331c294d7ba48)\n",
      "100%|██████████| 2/2 [00:00<00:00, 66.47it/s]\n"
     ]
    }
   ],
   "source": [
    "name = 'fashion_mnist'\n",
    "x,y = 'image','label'\n",
    "dsr = load_dataset(name)"
   ]
  },
  {
   "cell_type": "code",
   "execution_count": 6,
   "metadata": {},
   "outputs": [],
   "source": [
    "def transform(b):\n",
    "    b[x] = [TF.to_tensor(ele)-0.5 for ele in b[x]]\n",
    "    return b"
   ]
  },
  {
   "cell_type": "code",
   "execution_count": 7,
   "metadata": {},
   "outputs": [],
   "source": [
    "dst = dsr.with_transform(transform)"
   ]
  },
  {
   "cell_type": "code",
   "execution_count": 8,
   "metadata": {},
   "outputs": [],
   "source": [
    "def collate_dict(b):\n",
    "     clt = default_collate(b)\n",
    "     return (clt[x], clt[y])\n",
    "\n",
    "class DataLoaders:\n",
    "     def __init__(self, train_ds, valid_ds, batch_size, collate_fn, **kwargs):\n",
    "          self.train = DataLoader(train_ds, batch_size=batch_size, collate_fn=collate_fn, shuffle=True, **kwargs)\n",
    "          self.valid = DataLoader(valid_ds, batch_size=batch_size*2, collate_fn=collate_fn, shuffle=True, **kwargs)"
   ]
  },
  {
   "cell_type": "code",
   "execution_count": 9,
   "metadata": {},
   "outputs": [],
   "source": [
    "bs = 1024\n",
    "dls = DataLoaders(dst['train'], dst['test'], batch_size=bs, collate_fn=collate_dict)"
   ]
  },
  {
   "cell_type": "code",
   "execution_count": 10,
   "metadata": {},
   "outputs": [
    {
     "data": {
      "text/plain": [
       "(torch.Size([1024, 1, 28, 28]),\n",
       " torch.Size([1024]),\n",
       " tensor(-0.5000),\n",
       " tensor(0.5000))"
      ]
     },
     "execution_count": 10,
     "metadata": {},
     "output_type": "execute_result"
    }
   ],
   "source": [
    "xb,yb = next(iter(dls.train))\n",
    "xb.shape, yb.shape, xb.min(), xb.max()"
   ]
  },
  {
   "cell_type": "code",
   "execution_count": 11,
   "metadata": {},
   "outputs": [
    {
     "data": {
      "image/png": "[encoded data removed]",
      "text/plain": [
       "<Figure size 432x288 with 1 Axes>"
      ]
     },
     "metadata": {
      "needs_background": "light"
     },
     "output_type": "display_data"
    }
   ],
   "source": [
    "plt.imshow(xb[2].permute(1, 2, 0));\n",
    "plt.axis('off');"
   ]
  },
  {
   "cell_type": "code",
   "execution_count": 12,
   "metadata": {},
   "outputs": [
    {
     "data": {
      "image/png": "[encoded data removed]",
      "text/plain": [
       "<Figure size 432x288 with 1 Axes>"
      ]
     },
     "metadata": {
      "needs_background": "light"
     },
     "output_type": "display_data"
    }
   ],
   "source": [
    "plt.imshow(xb[5].permute(1, 2, 0));\n",
    "plt.axis('off');"
   ]
  },
  {
   "cell_type": "code",
   "execution_count": 13,
   "metadata": {},
   "outputs": [],
   "source": [
    "def conv(ni, nf, ks=3, s=2, act=nn.ReLU, norm=None, bias=True):\n",
    "    layers = [nn.Conv2d(ni, nf, kernel_size=ks, stride=s, padding=ks//2, bias=bias)]\n",
    "    if norm is not None:\n",
    "        layers.append(norm)\n",
    "    if act:\n",
    "        layers.append(act())\n",
    "    return nn.Sequential(*layers)\n",
    "\n",
    "def _conv_block(ni, nf, ks=3, s=2, act=nn.ReLU, norm=None, bias=True):\n",
    "    return nn.Sequential(\n",
    "        conv(ni, nf, ks=ks, s=1, act=act, bias=bias),\n",
    "        conv(nf, nf, s=s, norm=norm, act=None, bias=bias)\n",
    "    )\n",
    "\n",
    "class ResBlock(nn.Module):\n",
    "    def __init__(self, ni, nf, ks=3, s=2, act=nn.ReLU, norm=None, bias=True):\n",
    "        super().__init__()\n",
    "        self.conv = _conv_block(ni, nf, ks=ks, s=s, act=act, norm=norm, bias=bias)\n",
    "        self.idconv = fc.noop if ni==nf else conv(ni, nf, s=1, ks=1, act=None)\n",
    "        self.pool = nn.noop if s==1 else nn.AvgPool2d(2, ceil_mode=True)\n",
    "        self.act = act()\n",
    "    \n",
    "    def forward(self, x):\n",
    "        return self.act(self.conv(x) + self.idconv(self.pool(x)))"
   ]
  },
  {
   "cell_type": "code",
   "execution_count": 14,
   "metadata": {},
   "outputs": [],
   "source": [
    "def kaiming_init(m):\n",
    "    if isinstance(m, (nn.Conv1d, nn.Conv2d, nn.Conv3d)):\n",
    "        nn.init.kaiming_normal_(m.weight)"
   ]
  },
  {
   "cell_type": "code",
   "execution_count": 15,
   "metadata": {},
   "outputs": [],
   "source": [
    "class Reshape(nn.Module):\n",
    "    def __init__(self, dim):\n",
    "        super().__init__()\n",
    "        self.dim = dim\n",
    "    \n",
    "    def forward(self, x):\n",
    "        return x.view(self.dim)\n",
    "\n",
    "class RTanh(nn.Module):\n",
    "    def __init__(self):\n",
    "        super().__init__()\n",
    "    \n",
    "    def forward(self, x):\n",
    "        x = nn.Tanh()(x)\n",
    "        return 0.5*x \n",
    "\n",
    "class AutoEncoder(nn.Module):\n",
    "    def __init__(self):\n",
    "        super().__init__()\n",
    "        self.encoder = self._encoder()\n",
    "        self.decoder = self._decoder()\n",
    "    \n",
    "    def _encoder(self):\n",
    "        return nn.Sequential(\n",
    "            Reshape((-1, 28*28)),\n",
    "            nn.Linear(784, 512),\n",
    "            nn.ReLU(),\n",
    "            nn.Linear(512, 256),\n",
    "            nn.ReLU(),\n",
    "            nn.Linear(256, 128),\n",
    "            nn.ReLU(),\n",
    "            nn.Linear(128, 64)\n",
    "        )\n",
    "    \n",
    "    def _decoder(self):\n",
    "        return nn.Sequential(\n",
    "            nn.Linear(64, 128),\n",
    "            nn.ReLU(),\n",
    "            nn.Linear(128, 256),\n",
    "            nn.ReLU(),\n",
    "            nn.Linear(256, 512),\n",
    "            nn.ReLU(),\n",
    "            nn.Linear(512, 784),\n",
    "            RTanh(),\n",
    "            Reshape((-1, 1, 28, 28))\n",
    "        )\n",
    "\n",
    "    def forward(self, x):\n",
    "        return self.decoder(self.encoder(x))\n"
   ]
  },
  {
   "cell_type": "code",
   "execution_count": 16,
   "metadata": {},
   "outputs": [
    {
     "data": {
      "text/plain": [
       "(tensor(-0.5000), tensor(0.5000))"
      ]
     },
     "execution_count": 16,
     "metadata": {},
     "output_type": "execute_result"
    }
   ],
   "source": [
    "model = AutoEncoder()\n",
    "output = model(xb).detach().cpu()\n",
    "output.shape\n",
    "xb.min(),xb.max()"
   ]
  },
  {
   "cell_type": "code",
   "execution_count": 17,
   "metadata": {},
   "outputs": [
    {
     "name": "stdout",
     "output_type": "stream",
     "text": [
      "train: train, epoch:1, loss: 0.0445\n",
      "train: eval, epoch:1, loss: 0.0451\n",
      "train: train, epoch:2, loss: 0.0321\n",
      "train: eval, epoch:2, loss: 0.0330\n",
      "train: train, epoch:3, loss: 0.0268\n",
      "train: eval, epoch:3, loss: 0.0269\n",
      "train: train, epoch:4, loss: 0.0244\n",
      "train: eval, epoch:4, loss: 0.0248\n",
      "train: train, epoch:5, loss: 0.0228\n",
      "train: eval, epoch:5, loss: 0.0229\n",
      "train: train, epoch:6, loss: 0.0216\n",
      "train: eval, epoch:6, loss: 0.0211\n",
      "train: train, epoch:7, loss: 0.0201\n",
      "train: eval, epoch:7, loss: 0.0203\n",
      "train: train, epoch:8, loss: 0.0192\n",
      "train: eval, epoch:8, loss: 0.0198\n",
      "train: train, epoch:9, loss: 0.0190\n",
      "train: eval, epoch:9, loss: 0.0192\n",
      "train: train, epoch:10, loss: 0.0181\n",
      "train: eval, epoch:10, loss: 0.0183\n",
      "train: train, epoch:11, loss: 0.0181\n",
      "train: eval, epoch:11, loss: 0.0179\n",
      "train: train, epoch:12, loss: 0.0174\n",
      "train: eval, epoch:12, loss: 0.0175\n",
      "train: train, epoch:13, loss: 0.0179\n",
      "train: eval, epoch:13, loss: 0.0171\n",
      "train: train, epoch:14, loss: 0.0163\n",
      "train: eval, epoch:14, loss: 0.0169\n",
      "train: train, epoch:15, loss: 0.0166\n",
      "train: eval, epoch:15, loss: 0.0163\n",
      "train: train, epoch:16, loss: 0.0162\n",
      "train: eval, epoch:16, loss: 0.0157\n",
      "train: train, epoch:17, loss: 0.0154\n",
      "train: eval, epoch:17, loss: 0.0159\n",
      "train: train, epoch:18, loss: 0.0148\n",
      "train: eval, epoch:18, loss: 0.0151\n",
      "train: train, epoch:19, loss: 0.0141\n",
      "train: eval, epoch:19, loss: 0.0150\n",
      "train: train, epoch:20, loss: 0.0144\n",
      "train: eval, epoch:20, loss: 0.0150\n",
      "train: train, epoch:21, loss: 0.0140\n",
      "train: eval, epoch:21, loss: 0.0149\n",
      "train: train, epoch:22, loss: 0.0146\n",
      "train: eval, epoch:22, loss: 0.0145\n",
      "train: train, epoch:23, loss: 0.0143\n",
      "train: eval, epoch:23, loss: 0.0139\n",
      "train: train, epoch:24, loss: 0.0138\n",
      "train: eval, epoch:24, loss: 0.0144\n",
      "train: train, epoch:25, loss: 0.0137\n",
      "train: eval, epoch:25, loss: 0.0139\n",
      "train: train, epoch:26, loss: 0.0141\n",
      "train: eval, epoch:26, loss: 0.0136\n",
      "train: train, epoch:27, loss: 0.0144\n",
      "train: eval, epoch:27, loss: 0.0137\n",
      "train: train, epoch:28, loss: 0.0128\n",
      "train: eval, epoch:28, loss: 0.0137\n",
      "train: train, epoch:29, loss: 0.0142\n",
      "train: eval, epoch:29, loss: 0.0134\n",
      "train: train, epoch:30, loss: 0.0134\n",
      "train: eval, epoch:30, loss: 0.0133\n",
      "train: train, epoch:31, loss: 0.0135\n",
      "train: eval, epoch:31, loss: 0.0133\n",
      "train: train, epoch:32, loss: 0.0127\n",
      "train: eval, epoch:32, loss: 0.0136\n",
      "train: train, epoch:33, loss: 0.0126\n",
      "train: eval, epoch:33, loss: 0.0132\n",
      "train: train, epoch:34, loss: 0.0127\n",
      "train: eval, epoch:34, loss: 0.0136\n",
      "train: train, epoch:35, loss: 0.0131\n",
      "train: eval, epoch:35, loss: 0.0130\n",
      "train: train, epoch:36, loss: 0.0128\n",
      "train: eval, epoch:36, loss: 0.0132\n",
      "train: train, epoch:37, loss: 0.0123\n",
      "train: eval, epoch:37, loss: 0.0131\n",
      "train: train, epoch:38, loss: 0.0125\n",
      "train: eval, epoch:38, loss: 0.0130\n",
      "train: train, epoch:39, loss: 0.0131\n",
      "train: eval, epoch:39, loss: 0.0132\n",
      "train: train, epoch:40, loss: 0.0126\n",
      "train: eval, epoch:40, loss: 0.0129\n"
     ]
    }
   ],
   "source": [
    "epochs = 40\n",
    "lr = 1e-3\n",
    "max_lr = 0.2\n",
    "model = AutoEncoder()\n",
    "model.apply(kaiming_init)\n",
    "opt = optim.AdamW(model.parameters(), lr=lr, weight_decay=1e-4)\n",
    "sched = optim.lr_scheduler.OneCycleLR(opt, max_lr=max_lr, total_steps=len(dls.train), epochs=epochs)\n",
    "for epoch in range(epochs):\n",
    "    for train in (True, False):\n",
    "        dl = dls.train if train else dls.valid\n",
    "        accuracy = 0\n",
    "        for xb,yb in dl:\n",
    "            pred = model(xb)\n",
    "            loss = F.mse_loss(pred, xb)\n",
    "            if train:\n",
    "                loss.backward()\n",
    "                opt.step()\n",
    "                opt.zero_grad()\n",
    "        # if train:\n",
    "        #     sched.step()\n",
    "        wandb.log({\n",
    "            'train': 'train' if train else 'eval',\n",
    "            'epoch': epoch + 1,\n",
    "            'loss': loss.item()\n",
    "        })\n",
    "        print(f\"train: {'train' if train else 'eval'}, epoch:{epoch+1}, loss: {loss.item():.4f}\")"
   ]
  },
  {
   "cell_type": "code",
   "execution_count": 18,
   "metadata": {},
   "outputs": [
    {
     "data": {
      "image/png": "[encoded data removed]",
      "text/plain": [
       "<Figure size 1080x1080 with 5 Axes>"
      ]
     },
     "metadata": {
      "needs_background": "light"
     },
     "output_type": "display_data"
    },
    {
     "data": {
      "image/png": "[encoded data removed]",
      "text/plain": [
       "<Figure size 1080x1080 with 5 Axes>"
      ]
     },
     "metadata": {
      "needs_background": "light"
     },
     "output_type": "display_data"
    }
   ],
   "source": [
    "outp = model(xb).detach()\n",
    "sz = 5\n",
    "imgs = outp[:sz]\n",
    "imgs.shape\n",
    "_,axs = plt.subplots(1, sz, figsize=(15, 15))\n",
    "for img, ax in zip(imgs, axs.flat):\n",
    "    ax.imshow(img.permute(1,2,0))\n",
    "    ax.set_axis_off()\n",
    "    ax.set_title('prediction')\n",
    "    \n",
    "_,axs2 = plt.subplots(1, sz, figsize=(15, 15))\n",
    "for img, ax in zip(xb[:sz], axs2.flat):\n",
    "    ax.imshow(img.permute(1,2,0))\n",
    "    ax.set_axis_off()\n",
    "    ax.set_title('original')"
   ]
  },
  {
   "cell_type": "markdown",
   "metadata": {},
   "source": []
  },
  {
   "cell_type": "code",
   "execution_count": 19,
   "metadata": {},
   "outputs": [],
   "source": [
    "wandbpred= wandb.Image(\n",
    "   outp[:20]\n",
    ")\n",
    "wandbinp= wandb.Image(\n",
    "   xb[:20]\n",
    ")\n",
    "wandb.log({\n",
    "    'generated': wandbpred,\n",
    "    'original': wandbinp,\n",
    "})"
   ]
  },
  {
   "cell_type": "code",
   "execution_count": null,
   "metadata": {},
   "outputs": [],
   "source": []
  }
 ],
 "metadata": {
  "kernelspec": {
   "display_name": "base",
   "language": "python",
   "name": "python3"
  },
  "language_info": {
   "codemirror_mode": {
    "name": "ipython",
    "version": 3
   },
   "file_extension": ".py",
   "mimetype": "text/x-python",
   "name": "python",
   "nbconvert_exporter": "python",
   "pygments_lexer": "ipython3",
   "version": "3.9.7"
  },
  "orig_nbformat": 4
 },
 "nbformat": 4,
 "nbformat_minor": 2
}
